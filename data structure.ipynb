{
 "cells": [
  {
   "cell_type": "code",
   "execution_count": 6,
   "id": "ef73514d",
   "metadata": {},
   "outputs": [],
   "source": [
    "num  = [1,2,3,4,5]"
   ]
  },
  {
   "cell_type": "code",
   "execution_count": 7,
   "id": "1d5e880f",
   "metadata": {},
   "outputs": [
    {
     "data": {
      "text/plain": [
       "list"
      ]
     },
     "execution_count": 7,
     "metadata": {},
     "output_type": "execute_result"
    }
   ],
   "source": [
    "type(num)"
   ]
  },
  {
   "cell_type": "code",
   "execution_count": 8,
   "id": "12d4aa8a",
   "metadata": {},
   "outputs": [
    {
     "data": {
      "text/plain": [
       "1"
      ]
     },
     "execution_count": 8,
     "metadata": {},
     "output_type": "execute_result"
    }
   ],
   "source": [
    "num[0]"
   ]
  },
  {
   "cell_type": "code",
   "execution_count": 9,
   "id": "9e7a4901",
   "metadata": {},
   "outputs": [
    {
     "data": {
      "text/plain": [
       "2"
      ]
     },
     "execution_count": 9,
     "metadata": {},
     "output_type": "execute_result"
    }
   ],
   "source": [
    "num[1]"
   ]
  },
  {
   "cell_type": "code",
   "execution_count": 10,
   "id": "a2d505ee",
   "metadata": {},
   "outputs": [
    {
     "data": {
      "text/plain": [
       "5"
      ]
     },
     "execution_count": 10,
     "metadata": {},
     "output_type": "execute_result"
    }
   ],
   "source": [
    "num[4]"
   ]
  },
  {
   "cell_type": "code",
   "execution_count": 11,
   "id": "84c78703",
   "metadata": {},
   "outputs": [],
   "source": [
    "lis = [1,2,'ajay',True,3+7j]"
   ]
  },
  {
   "cell_type": "code",
   "execution_count": 12,
   "id": "a6acff84",
   "metadata": {},
   "outputs": [
    {
     "data": {
      "text/plain": [
       "[1, 2, 'ajay', True, (3+7j)]"
      ]
     },
     "execution_count": 12,
     "metadata": {},
     "output_type": "execute_result"
    }
   ],
   "source": [
    "lis"
   ]
  },
  {
   "cell_type": "code",
   "execution_count": 14,
   "id": "29d36986",
   "metadata": {},
   "outputs": [],
   "source": [
    "lis.append(\"pwskills\")"
   ]
  },
  {
   "cell_type": "code",
   "execution_count": 15,
   "id": "ea7d1448",
   "metadata": {},
   "outputs": [
    {
     "data": {
      "text/plain": [
       "[1, 2, 'ajay', True, (3+7j), 'pwskills']"
      ]
     },
     "execution_count": 15,
     "metadata": {},
     "output_type": "execute_result"
    }
   ],
   "source": [
    "lis"
   ]
  },
  {
   "cell_type": "code",
   "execution_count": 16,
   "id": "68015a91",
   "metadata": {},
   "outputs": [],
   "source": [
    "lis.remove('ajay')"
   ]
  },
  {
   "cell_type": "code",
   "execution_count": 17,
   "id": "0e873686",
   "metadata": {},
   "outputs": [
    {
     "data": {
      "text/plain": [
       "[1, 2, True, (3+7j), 'pwskills']"
      ]
     },
     "execution_count": 17,
     "metadata": {},
     "output_type": "execute_result"
    }
   ],
   "source": [
    "lis"
   ]
  },
  {
   "cell_type": "code",
   "execution_count": 18,
   "id": "4961fb2e",
   "metadata": {},
   "outputs": [
    {
     "data": {
      "text/plain": [
       "True"
      ]
     },
     "execution_count": 18,
     "metadata": {},
     "output_type": "execute_result"
    }
   ],
   "source": [
    "lis[2]"
   ]
  },
  {
   "cell_type": "code",
   "execution_count": 19,
   "id": "8028e1de",
   "metadata": {},
   "outputs": [],
   "source": [
    "lis = [[1,2,3],[4,5,6],[7,8,9]]"
   ]
  },
  {
   "cell_type": "code",
   "execution_count": 20,
   "id": "963b5876",
   "metadata": {},
   "outputs": [
    {
     "data": {
      "text/plain": [
       "[[1, 2, 3], [4, 5, 6], [7, 8, 9]]"
      ]
     },
     "execution_count": 20,
     "metadata": {},
     "output_type": "execute_result"
    }
   ],
   "source": [
    "lis"
   ]
  },
  {
   "cell_type": "code",
   "execution_count": 21,
   "id": "08d9e82f",
   "metadata": {},
   "outputs": [
    {
     "data": {
      "text/plain": [
       "list"
      ]
     },
     "execution_count": 21,
     "metadata": {},
     "output_type": "execute_result"
    }
   ],
   "source": [
    "type(lis)"
   ]
  },
  {
   "cell_type": "code",
   "execution_count": 24,
   "id": "472c742b",
   "metadata": {},
   "outputs": [
    {
     "data": {
      "text/plain": [
       "[4, 5, 6]"
      ]
     },
     "execution_count": 24,
     "metadata": {},
     "output_type": "execute_result"
    }
   ],
   "source": [
    "lis[1]"
   ]
  },
  {
   "cell_type": "code",
   "execution_count": 25,
   "id": "15d9c3de",
   "metadata": {},
   "outputs": [
    {
     "data": {
      "text/plain": [
       "9"
      ]
     },
     "execution_count": 25,
     "metadata": {},
     "output_type": "execute_result"
    }
   ],
   "source": [
    "lis[2][2]"
   ]
  },
  {
   "cell_type": "code",
   "execution_count": 26,
   "id": "1df0a182",
   "metadata": {},
   "outputs": [],
   "source": [
    "shopping_list = [\"Banana\",\"Apple\",3,4.5,True]"
   ]
  },
  {
   "cell_type": "code",
   "execution_count": 28,
   "id": "202f7b28",
   "metadata": {},
   "outputs": [
    {
     "data": {
      "text/plain": [
       "list"
      ]
     },
     "execution_count": 28,
     "metadata": {},
     "output_type": "execute_result"
    }
   ],
   "source": [
    "type(shopping_list)"
   ]
  },
  {
   "cell_type": "code",
   "execution_count": 30,
   "id": "2456270e",
   "metadata": {},
   "outputs": [
    {
     "name": "stdout",
     "output_type": "stream",
     "text": [
      "Banana Apple 3 4.5 True "
     ]
    }
   ],
   "source": [
    "for item in shopping_list:\n",
    "    print(item,end=\" \")"
   ]
  },
  {
   "cell_type": "code",
   "execution_count": 31,
   "id": "52dffa9a",
   "metadata": {},
   "outputs": [],
   "source": [
    "#Tuples >> immutable "
   ]
  },
  {
   "cell_type": "code",
   "execution_count": 32,
   "id": "03b8a2ce",
   "metadata": {},
   "outputs": [],
   "source": [
    "point = (2,3)"
   ]
  },
  {
   "cell_type": "code",
   "execution_count": 33,
   "id": "b3631d15",
   "metadata": {},
   "outputs": [
    {
     "data": {
      "text/plain": [
       "tuple"
      ]
     },
     "execution_count": 33,
     "metadata": {},
     "output_type": "execute_result"
    }
   ],
   "source": [
    "type(point)"
   ]
  },
  {
   "cell_type": "code",
   "execution_count": 34,
   "id": "5e036712",
   "metadata": {},
   "outputs": [],
   "source": [
    "point = (\"Ajay\",1,2,3,5)"
   ]
  },
  {
   "cell_type": "code",
   "execution_count": 35,
   "id": "ea3e87ef",
   "metadata": {},
   "outputs": [
    {
     "data": {
      "text/plain": [
       "('Ajay', 1, 2, 3, 5)"
      ]
     },
     "execution_count": 35,
     "metadata": {},
     "output_type": "execute_result"
    }
   ],
   "source": [
    "point"
   ]
  },
  {
   "cell_type": "code",
   "execution_count": 36,
   "id": "1468146d",
   "metadata": {},
   "outputs": [],
   "source": [
    "name = (\"ajay\",\"sumit\",\"bijay\")"
   ]
  },
  {
   "cell_type": "code",
   "execution_count": 37,
   "id": "7ca16df4",
   "metadata": {},
   "outputs": [
    {
     "data": {
      "text/plain": [
       "('ajay', 'sumit', 'bijay')"
      ]
     },
     "execution_count": 37,
     "metadata": {},
     "output_type": "execute_result"
    }
   ],
   "source": [
    "name"
   ]
  },
  {
   "cell_type": "code",
   "execution_count": 38,
   "id": "6f19d7f6",
   "metadata": {},
   "outputs": [
    {
     "data": {
      "text/plain": [
       "'ajay'"
      ]
     },
     "execution_count": 38,
     "metadata": {},
     "output_type": "execute_result"
    }
   ],
   "source": [
    "name[0]"
   ]
  },
  {
   "cell_type": "code",
   "execution_count": 39,
   "id": "9ab24604",
   "metadata": {},
   "outputs": [
    {
     "ename": "TypeError",
     "evalue": "'tuple' object does not support item assignment",
     "output_type": "error",
     "traceback": [
      "\u001b[1;31m---------------------------------------------------------------------------\u001b[0m",
      "\u001b[1;31mTypeError\u001b[0m                                 Traceback (most recent call last)",
      "Cell \u001b[1;32mIn[39], line 1\u001b[0m\n\u001b[1;32m----> 1\u001b[0m name[\u001b[38;5;241m1\u001b[39m]\u001b[38;5;241m=\u001b[39m\u001b[38;5;124m\"\u001b[39m\u001b[38;5;124mBangalore\u001b[39m\u001b[38;5;124m\"\u001b[39m\n",
      "\u001b[1;31mTypeError\u001b[0m: 'tuple' object does not support item assignment"
     ]
    }
   ],
   "source": [
    "name[1]=\"Bangalore\""
   ]
  },
  {
   "cell_type": "code",
   "execution_count": 40,
   "id": "6617953f",
   "metadata": {},
   "outputs": [],
   "source": [
    "box1 = (\"a\",\"b\")\n",
    "box2 = (\"c\",\"d\")"
   ]
  },
  {
   "cell_type": "code",
   "execution_count": 41,
   "id": "906f613b",
   "metadata": {},
   "outputs": [],
   "source": [
    "choclate_bag = (box1,box2)"
   ]
  },
  {
   "cell_type": "code",
   "execution_count": 42,
   "id": "79593c17",
   "metadata": {},
   "outputs": [
    {
     "data": {
      "text/plain": [
       "(('a', 'b'), ('c', 'd'))"
      ]
     },
     "execution_count": 42,
     "metadata": {},
     "output_type": "execute_result"
    }
   ],
   "source": [
    "choclate_bag"
   ]
  },
  {
   "cell_type": "code",
   "execution_count": 45,
   "id": "519a1e59",
   "metadata": {},
   "outputs": [
    {
     "name": "stdout",
     "output_type": "stream",
     "text": [
      "a\n",
      "b\n",
      "c\n",
      "d\n"
     ]
    }
   ],
   "source": [
    "for bag in choclate_bag:\n",
    "    for choc in bag:\n",
    "        print(choc)"
   ]
  },
  {
   "cell_type": "code",
   "execution_count": 46,
   "id": "f198f2a1",
   "metadata": {},
   "outputs": [],
   "source": [
    "#sets >> are unordered collection of unique elements "
   ]
  },
  {
   "cell_type": "code",
   "execution_count": 47,
   "id": "95a01ffe",
   "metadata": {},
   "outputs": [
    {
     "data": {
      "text/plain": [
       "set"
      ]
     },
     "execution_count": 47,
     "metadata": {},
     "output_type": "execute_result"
    }
   ],
   "source": [
    "s = {\"red\",\"blue\"}\n",
    "type(s)"
   ]
  },
  {
   "cell_type": "code",
   "execution_count": 48,
   "id": "de9817cd",
   "metadata": {},
   "outputs": [
    {
     "data": {
      "text/plain": [
       "{'blue', 'red'}"
      ]
     },
     "execution_count": 48,
     "metadata": {},
     "output_type": "execute_result"
    }
   ],
   "source": [
    "s = {\"red\",\"blue\",\"red\"}\n",
    "s"
   ]
  },
  {
   "cell_type": "code",
   "execution_count": 49,
   "id": "7f360304",
   "metadata": {},
   "outputs": [
    {
     "ename": "TypeError",
     "evalue": "'set' object is not subscriptable",
     "output_type": "error",
     "traceback": [
      "\u001b[1;31m---------------------------------------------------------------------------\u001b[0m",
      "\u001b[1;31mTypeError\u001b[0m                                 Traceback (most recent call last)",
      "Cell \u001b[1;32mIn[49], line 1\u001b[0m\n\u001b[1;32m----> 1\u001b[0m s[\u001b[38;5;241m0\u001b[39m]\n",
      "\u001b[1;31mTypeError\u001b[0m: 'set' object is not subscriptable"
     ]
    }
   ],
   "source": [
    "s[0]"
   ]
  },
  {
   "cell_type": "code",
   "execution_count": 50,
   "id": "c4a218db",
   "metadata": {},
   "outputs": [
    {
     "data": {
      "text/plain": [
       "{'blue', 'red'}"
      ]
     },
     "execution_count": 50,
     "metadata": {},
     "output_type": "execute_result"
    }
   ],
   "source": [
    "s"
   ]
  },
  {
   "cell_type": "code",
   "execution_count": 51,
   "id": "d0b20550",
   "metadata": {},
   "outputs": [],
   "source": [
    "s.add(\"white\")"
   ]
  },
  {
   "cell_type": "code",
   "execution_count": 52,
   "id": "9ef9a61a",
   "metadata": {},
   "outputs": [
    {
     "data": {
      "text/plain": [
       "{'blue', 'red', 'white'}"
      ]
     },
     "execution_count": 52,
     "metadata": {},
     "output_type": "execute_result"
    }
   ],
   "source": [
    "s"
   ]
  },
  {
   "cell_type": "code",
   "execution_count": 53,
   "id": "d90d9b0e",
   "metadata": {},
   "outputs": [],
   "source": [
    "s.add(\"white\")"
   ]
  },
  {
   "cell_type": "code",
   "execution_count": 54,
   "id": "0d41614a",
   "metadata": {},
   "outputs": [
    {
     "data": {
      "text/plain": [
       "{'blue', 'red', 'white'}"
      ]
     },
     "execution_count": 54,
     "metadata": {},
     "output_type": "execute_result"
    }
   ],
   "source": [
    "s"
   ]
  },
  {
   "cell_type": "code",
   "execution_count": 55,
   "id": "2571af9c",
   "metadata": {},
   "outputs": [],
   "source": [
    "s.remove('white')"
   ]
  },
  {
   "cell_type": "code",
   "execution_count": 56,
   "id": "3bae0bd4",
   "metadata": {},
   "outputs": [
    {
     "data": {
      "text/plain": [
       "{'blue', 'red'}"
      ]
     },
     "execution_count": 56,
     "metadata": {},
     "output_type": "execute_result"
    }
   ],
   "source": [
    "s"
   ]
  },
  {
   "cell_type": "code",
   "execution_count": 57,
   "id": "0f11d22d",
   "metadata": {},
   "outputs": [
    {
     "data": {
      "text/plain": [
       "'red'"
      ]
     },
     "execution_count": 57,
     "metadata": {},
     "output_type": "execute_result"
    }
   ],
   "source": [
    "s.pop()"
   ]
  },
  {
   "cell_type": "code",
   "execution_count": 58,
   "id": "e4de0295",
   "metadata": {},
   "outputs": [
    {
     "data": {
      "text/plain": [
       "{'blue'}"
      ]
     },
     "execution_count": 58,
     "metadata": {},
     "output_type": "execute_result"
    }
   ],
   "source": [
    "s"
   ]
  },
  {
   "cell_type": "code",
   "execution_count": 60,
   "id": "e09fceba",
   "metadata": {},
   "outputs": [],
   "source": [
    "s.add('white')"
   ]
  },
  {
   "cell_type": "code",
   "execution_count": 61,
   "id": "cfad3607",
   "metadata": {},
   "outputs": [
    {
     "data": {
      "text/plain": [
       "{'blue', 'white'}"
      ]
     },
     "execution_count": 61,
     "metadata": {},
     "output_type": "execute_result"
    }
   ],
   "source": [
    "s"
   ]
  },
  {
   "cell_type": "code",
   "execution_count": 62,
   "id": "80531691",
   "metadata": {},
   "outputs": [
    {
     "data": {
      "text/plain": [
       "{'apple', 'banana', 'orange'}"
      ]
     },
     "execution_count": 62,
     "metadata": {},
     "output_type": "execute_result"
    }
   ],
   "source": [
    "grocery_list = {\"apple\",\"banana\",\"orange\",\"banana\",\"orange\"}\n",
    "grocery_list"
   ]
  },
  {
   "cell_type": "code",
   "execution_count": 64,
   "id": "626d9c7d",
   "metadata": {},
   "outputs": [],
   "source": [
    "#dictionaries >> key value pair"
   ]
  },
  {
   "cell_type": "code",
   "execution_count": 65,
   "id": "cbdcdb70",
   "metadata": {},
   "outputs": [],
   "source": [
    "my_dic = {}"
   ]
  },
  {
   "cell_type": "code",
   "execution_count": 66,
   "id": "9fe64c87",
   "metadata": {},
   "outputs": [
    {
     "data": {
      "text/plain": [
       "{}"
      ]
     },
     "execution_count": 66,
     "metadata": {},
     "output_type": "execute_result"
    }
   ],
   "source": [
    "my_dic"
   ]
  },
  {
   "cell_type": "code",
   "execution_count": 67,
   "id": "cd129e20",
   "metadata": {},
   "outputs": [
    {
     "data": {
      "text/plain": [
       "dict"
      ]
     },
     "execution_count": 67,
     "metadata": {},
     "output_type": "execute_result"
    }
   ],
   "source": [
    "type(my_dic)"
   ]
  },
  {
   "cell_type": "code",
   "execution_count": 68,
   "id": "922fa5f8",
   "metadata": {},
   "outputs": [],
   "source": [
    "s = {}"
   ]
  },
  {
   "cell_type": "code",
   "execution_count": 70,
   "id": "b43e9d94",
   "metadata": {},
   "outputs": [
    {
     "data": {
      "text/plain": [
       "dict"
      ]
     },
     "execution_count": 70,
     "metadata": {},
     "output_type": "execute_result"
    }
   ],
   "source": [
    "type(s)"
   ]
  },
  {
   "cell_type": "code",
   "execution_count": 71,
   "id": "d8990af8",
   "metadata": {},
   "outputs": [],
   "source": [
    "my_dic = {'key_course':\"data science\",\"duration\":2}"
   ]
  },
  {
   "cell_type": "code",
   "execution_count": 72,
   "id": "37dc6828",
   "metadata": {},
   "outputs": [
    {
     "data": {
      "text/plain": [
       "dict"
      ]
     },
     "execution_count": 72,
     "metadata": {},
     "output_type": "execute_result"
    }
   ],
   "source": [
    "type(my_dic)"
   ]
  },
  {
   "cell_type": "code",
   "execution_count": 73,
   "id": "b009bc1f",
   "metadata": {},
   "outputs": [
    {
     "data": {
      "text/plain": [
       "'data science'"
      ]
     },
     "execution_count": 73,
     "metadata": {},
     "output_type": "execute_result"
    }
   ],
   "source": [
    "my_dic['key_course']"
   ]
  },
  {
   "cell_type": "code",
   "execution_count": 74,
   "id": "6018bd09",
   "metadata": {},
   "outputs": [
    {
     "data": {
      "text/plain": [
       "{'key_course': 'data science', 'duration': 2}"
      ]
     },
     "execution_count": 74,
     "metadata": {},
     "output_type": "execute_result"
    }
   ],
   "source": [
    "my_dic"
   ]
  },
  {
   "cell_type": "code",
   "execution_count": 75,
   "id": "49b12977",
   "metadata": {},
   "outputs": [
    {
     "data": {
      "text/plain": [
       "dict_keys(['key_course', 'duration'])"
      ]
     },
     "execution_count": 75,
     "metadata": {},
     "output_type": "execute_result"
    }
   ],
   "source": [
    "my_dic.keys()"
   ]
  },
  {
   "cell_type": "code",
   "execution_count": 76,
   "id": "b9954350",
   "metadata": {},
   "outputs": [
    {
     "data": {
      "text/plain": [
       "dict_values(['data science', 2])"
      ]
     },
     "execution_count": 76,
     "metadata": {},
     "output_type": "execute_result"
    }
   ],
   "source": [
    "my_dic.values()"
   ]
  },
  {
   "cell_type": "code",
   "execution_count": 79,
   "id": "e6710f24",
   "metadata": {},
   "outputs": [],
   "source": [
    "my_dic['data science'] =\"MCA\""
   ]
  },
  {
   "cell_type": "code",
   "execution_count": 83,
   "id": "c0988eb5",
   "metadata": {},
   "outputs": [],
   "source": [
    "my_dic[2]=[3]"
   ]
  },
  {
   "cell_type": "code",
   "execution_count": 84,
   "id": "8b29e5be",
   "metadata": {},
   "outputs": [
    {
     "data": {
      "text/plain": [
       "{'key_course': 'MCA', 'duration': 2, 'data science': 'MCA', '2': [3], 2: [3]}"
      ]
     },
     "execution_count": 84,
     "metadata": {},
     "output_type": "execute_result"
    }
   ],
   "source": [
    "my_dic"
   ]
  },
  {
   "cell_type": "code",
   "execution_count": 85,
   "id": "673b8d9e",
   "metadata": {},
   "outputs": [
    {
     "data": {
      "text/plain": [
       "{'key_course': 'MCA', 'duration': 2, 'data science': 'MCA', '2': [3], 2: [3]}"
      ]
     },
     "execution_count": 85,
     "metadata": {},
     "output_type": "execute_result"
    }
   ],
   "source": [
    "my_dic"
   ]
  },
  {
   "cell_type": "code",
   "execution_count": 86,
   "id": "967c9d98",
   "metadata": {},
   "outputs": [],
   "source": [
    "from array import array"
   ]
  },
  {
   "cell_type": "code",
   "execution_count": 88,
   "id": "404c3a7a",
   "metadata": {},
   "outputs": [],
   "source": [
    "a = array('i',[1,2,3,4])"
   ]
  },
  {
   "cell_type": "code",
   "execution_count": 90,
   "id": "5ad70cb8",
   "metadata": {},
   "outputs": [
    {
     "data": {
      "text/plain": [
       "3"
      ]
     },
     "execution_count": 90,
     "metadata": {},
     "output_type": "execute_result"
    }
   ],
   "source": [
    "a[2]"
   ]
  },
  {
   "cell_type": "code",
   "execution_count": null,
   "id": "f14226f9",
   "metadata": {},
   "outputs": [],
   "source": []
  }
 ],
 "metadata": {
  "kernelspec": {
   "display_name": "Python 3 (ipykernel)",
   "language": "python",
   "name": "python3"
  },
  "language_info": {
   "codemirror_mode": {
    "name": "ipython",
    "version": 3
   },
   "file_extension": ".py",
   "mimetype": "text/x-python",
   "name": "python",
   "nbconvert_exporter": "python",
   "pygments_lexer": "ipython3",
   "version": "3.11.5"
  }
 },
 "nbformat": 4,
 "nbformat_minor": 5
}
